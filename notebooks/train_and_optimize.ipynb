{
  "cells": [
    {
      "cell_type": "code",
      "source": [
        "pip install -q category_encoders pandas catboost scikit-learn"
      ],
      "metadata": {
        "colab": {
          "base_uri": "https://localhost:8080/"
        },
        "id": "uN5Lt9hnOALe",
        "outputId": "13cac32d-aecc-415e-aa43-5cc293c2b8e0"
      },
      "id": "uN5Lt9hnOALe",
      "execution_count": 2,
      "outputs": [
        {
          "output_type": "stream",
          "name": "stdout",
          "text": [
            "\u001b[2K   \u001b[90m━━━━━━━━━━━━━━━━━━━━━━━━━━━━━━━━━━━━━━━━\u001b[0m \u001b[32m85.7/85.7 kB\u001b[0m \u001b[31m6.7 MB/s\u001b[0m eta \u001b[36m0:00:00\u001b[0m\n",
            "\u001b[2K   \u001b[90m━━━━━━━━━━━━━━━━━━━━━━━━━━━━━━━━━━━━━━━━\u001b[0m \u001b[32m99.2/99.2 MB\u001b[0m \u001b[31m9.0 MB/s\u001b[0m eta \u001b[36m0:00:00\u001b[0m\n",
            "\u001b[?25h"
          ]
        }
      ]
    },
    {
      "cell_type": "code",
      "execution_count": 20,
      "id": "8fa7620b",
      "metadata": {
        "id": "8fa7620b"
      },
      "outputs": [],
      "source": [
        "from category_encoders.cat_boost import CatBoostEncoder\n",
        "import pandas as pd\n",
        "from catboost import CatBoostRegressor\n",
        "from sklearn.model_selection import train_test_split\n",
        "import numpy as np"
      ]
    },
    {
      "cell_type": "code",
      "execution_count": 11,
      "id": "fcbdb921",
      "metadata": {
        "id": "fcbdb921"
      },
      "outputs": [],
      "source": [
        "df_with_ta = pd.read_csv(\"stocks_with_indicators_20.csv\").dropna()"
      ]
    },
    {
      "cell_type": "code",
      "source": [
        "df_with_ta.Date = pd.to_datetime(df_with_ta.Date)"
      ],
      "metadata": {
        "id": "WYcCYZGyOSjf"
      },
      "id": "WYcCYZGyOSjf",
      "execution_count": 12,
      "outputs": []
    },
    {
      "cell_type": "code",
      "source": [
        "df_with_ta.isna().sum()"
      ],
      "metadata": {
        "colab": {
          "base_uri": "https://localhost:8080/",
          "height": 836
        },
        "id": "A6ccRDcCOcEq",
        "outputId": "968db234-f0a5-4366-8e06-d1de4f427d48"
      },
      "id": "A6ccRDcCOcEq",
      "execution_count": 13,
      "outputs": [
        {
          "output_type": "execute_result",
          "data": {
            "text/plain": [
              "Date             0\n",
              "Open             0\n",
              "High             0\n",
              "Low              0\n",
              "Close            0\n",
              "Volume           0\n",
              "symbol           0\n",
              "future_price     0\n",
              "annual_return    0\n",
              "SMA_50           0\n",
              "EMA_200          0\n",
              "RSI_14           0\n",
              "MACD_            0\n",
              "MACD_hist_       0\n",
              "MACD_signal_     0\n",
              "ADX_50           0\n",
              "DMP_50           0\n",
              "DMN_50           0\n",
              "BBL_20_2.0       0\n",
              "BBM_20_2.0       0\n",
              "BBU_20_2.0       0\n",
              "BBB_20_2.0       0\n",
              "BBP_20_2.0       0\n",
              "ATRr_14          0\n",
              "dtype: int64"
            ],
            "text/html": [
              "<div>\n",
              "<style scoped>\n",
              "    .dataframe tbody tr th:only-of-type {\n",
              "        vertical-align: middle;\n",
              "    }\n",
              "\n",
              "    .dataframe tbody tr th {\n",
              "        vertical-align: top;\n",
              "    }\n",
              "\n",
              "    .dataframe thead th {\n",
              "        text-align: right;\n",
              "    }\n",
              "</style>\n",
              "<table border=\"1\" class=\"dataframe\">\n",
              "  <thead>\n",
              "    <tr style=\"text-align: right;\">\n",
              "      <th></th>\n",
              "      <th>0</th>\n",
              "    </tr>\n",
              "  </thead>\n",
              "  <tbody>\n",
              "    <tr>\n",
              "      <th>Date</th>\n",
              "      <td>0</td>\n",
              "    </tr>\n",
              "    <tr>\n",
              "      <th>Open</th>\n",
              "      <td>0</td>\n",
              "    </tr>\n",
              "    <tr>\n",
              "      <th>High</th>\n",
              "      <td>0</td>\n",
              "    </tr>\n",
              "    <tr>\n",
              "      <th>Low</th>\n",
              "      <td>0</td>\n",
              "    </tr>\n",
              "    <tr>\n",
              "      <th>Close</th>\n",
              "      <td>0</td>\n",
              "    </tr>\n",
              "    <tr>\n",
              "      <th>Volume</th>\n",
              "      <td>0</td>\n",
              "    </tr>\n",
              "    <tr>\n",
              "      <th>symbol</th>\n",
              "      <td>0</td>\n",
              "    </tr>\n",
              "    <tr>\n",
              "      <th>future_price</th>\n",
              "      <td>0</td>\n",
              "    </tr>\n",
              "    <tr>\n",
              "      <th>annual_return</th>\n",
              "      <td>0</td>\n",
              "    </tr>\n",
              "    <tr>\n",
              "      <th>SMA_50</th>\n",
              "      <td>0</td>\n",
              "    </tr>\n",
              "    <tr>\n",
              "      <th>EMA_200</th>\n",
              "      <td>0</td>\n",
              "    </tr>\n",
              "    <tr>\n",
              "      <th>RSI_14</th>\n",
              "      <td>0</td>\n",
              "    </tr>\n",
              "    <tr>\n",
              "      <th>MACD_</th>\n",
              "      <td>0</td>\n",
              "    </tr>\n",
              "    <tr>\n",
              "      <th>MACD_hist_</th>\n",
              "      <td>0</td>\n",
              "    </tr>\n",
              "    <tr>\n",
              "      <th>MACD_signal_</th>\n",
              "      <td>0</td>\n",
              "    </tr>\n",
              "    <tr>\n",
              "      <th>ADX_50</th>\n",
              "      <td>0</td>\n",
              "    </tr>\n",
              "    <tr>\n",
              "      <th>DMP_50</th>\n",
              "      <td>0</td>\n",
              "    </tr>\n",
              "    <tr>\n",
              "      <th>DMN_50</th>\n",
              "      <td>0</td>\n",
              "    </tr>\n",
              "    <tr>\n",
              "      <th>BBL_20_2.0</th>\n",
              "      <td>0</td>\n",
              "    </tr>\n",
              "    <tr>\n",
              "      <th>BBM_20_2.0</th>\n",
              "      <td>0</td>\n",
              "    </tr>\n",
              "    <tr>\n",
              "      <th>BBU_20_2.0</th>\n",
              "      <td>0</td>\n",
              "    </tr>\n",
              "    <tr>\n",
              "      <th>BBB_20_2.0</th>\n",
              "      <td>0</td>\n",
              "    </tr>\n",
              "    <tr>\n",
              "      <th>BBP_20_2.0</th>\n",
              "      <td>0</td>\n",
              "    </tr>\n",
              "    <tr>\n",
              "      <th>ATRr_14</th>\n",
              "      <td>0</td>\n",
              "    </tr>\n",
              "  </tbody>\n",
              "</table>\n",
              "</div><br><label><b>dtype:</b> int64</label>"
            ]
          },
          "metadata": {},
          "execution_count": 13
        }
      ]
    },
    {
      "cell_type": "code",
      "execution_count": 29,
      "id": "470fe6f1",
      "metadata": {
        "id": "470fe6f1"
      },
      "outputs": [],
      "source": [
        "split_date = 2023\n",
        "target_col='annual_return'\n",
        "\n",
        "df_train = df_with_ta[df_with_ta.Date.dt.year < split_date]\n",
        "df_test = df_with_ta[df_with_ta.Date.dt.year >= split_date]\n",
        "\n",
        "X_train = df_train.drop(columns=[target_col, 'Date', 'future_price'])\n",
        "y_train = df_train[target_col]\n",
        "\n",
        "X_test = df_test.drop(columns=[target_col, 'Date', 'future_price'])\n",
        "y_test = df_test[target_col]\n",
        "\n",
        "encoder = CatBoostEncoder(cols=['symbol'])\n",
        "\n",
        "X_train_encoded = encoder.fit_transform(X_train, y_train)\n",
        "X_test_encoded = encoder.transform(X_test)\n",
        "\n",
        "X_train_encoded, X_val_encoded, y_train, y_val = train_test_split(\n",
        "    X_train_encoded, y_train, test_size=0.2, random_state=42\n",
        ")"
      ]
    },
    {
      "cell_type": "code",
      "execution_count": 33,
      "id": "7175e9ed",
      "metadata": {
        "colab": {
          "base_uri": "https://localhost:8080/"
        },
        "id": "7175e9ed",
        "outputId": "e0dd6d12-e286-490a-9335-e1045910dcc9"
      },
      "outputs": [
        {
          "output_type": "execute_result",
          "data": {
            "text/plain": [
              "['EMA_200',\n",
              " 'BBL_20_2.0',\n",
              " 'Volume',\n",
              " 'ADX_50',\n",
              " 'BBB_20_2.0',\n",
              " 'DMP_50',\n",
              " 'ATRr_14',\n",
              " 'SMA_50',\n",
              " 'BBM_20_2.0',\n",
              " 'Low',\n",
              " 'BBU_20_2.0',\n",
              " 'Close',\n",
              " 'MACD_signal_',\n",
              " 'Open',\n",
              " 'DMN_50']"
            ]
          },
          "metadata": {},
          "execution_count": 33
        }
      ],
      "source": [
        "from catboost import CatBoostRegressor\n",
        "from sklearn.model_selection import train_test_split\n",
        "\n",
        "def select_features_with_catboost(df, target_col='annual_return', top_n=15):\n",
        "    \"\"\"Выбирает топ-N наиболее важных фичей\"\"\"\n",
        "    # Подготовка данных\n",
        "    X = df.drop(columns=[target_col, 'Date', 'symbol', 'future_price'])\n",
        "    y = df[target_col]\n",
        "\n",
        "    # Удаляем строки с пропусками\n",
        "    X = X.dropna(axis=1)\n",
        "    X = X.fillna(0)\n",
        "\n",
        "    # Разделяем данные\n",
        "    X_train, X_test, y_train, y_test = train_test_split(\n",
        "        X, y, test_size=0.2, random_state=42\n",
        "    )\n",
        "\n",
        "    # Обучаем CatBoost\n",
        "    model = CatBoostRegressor(\n",
        "        iterations=500,\n",
        "        learning_rate=0.1,\n",
        "        depth=6,\n",
        "        verbose=0\n",
        "    )\n",
        "    model.fit(X_train, y_train, eval_set=(X_test, y_test))\n",
        "\n",
        "    # Получаем важность фичей\n",
        "    feature_importance = pd.DataFrame({\n",
        "        'feature': X.columns,\n",
        "        'importance': model.feature_importances_\n",
        "    }).sort_values('importance', ascending=False)\n",
        "\n",
        "    return feature_importance.head(top_n)['feature'].tolist()\n",
        "\n",
        "top_15_features = select_features_with_catboost(df_train, target_col='annual_return', top_n=15)\n",
        "top_15_features"
      ]
    },
    {
      "cell_type": "code",
      "execution_count": 31,
      "id": "8e1437e2",
      "metadata": {
        "colab": {
          "base_uri": "https://localhost:8080/"
        },
        "id": "8e1437e2",
        "outputId": "11a8130e-c495-4786-d4d7-31ba9221b185"
      },
      "outputs": [
        {
          "output_type": "stream",
          "name": "stdout",
          "text": [
            "MSE Train: 0.1009728920563348, MSE Test: 0.11403130484477353\n",
            "R2 Train: 0.9730292059270236, R2 Test: 0.9671843529742955\n"
          ]
        }
      ],
      "source": [
        "from sklearn.metrics import mean_squared_error, r2_score\n",
        "def catboost_train(X_train, X_val, y_train, y_val, target_col='annual_return'):\n",
        "\n",
        "    # Обучаем CatBoost\n",
        "    model = CatBoostRegressor(\n",
        "        iterations=500,\n",
        "        learning_rate=0.1,\n",
        "        depth=6,\n",
        "        verbose=0\n",
        "    )\n",
        "    model.fit(X_train, y_train,\n",
        "              eval_set=(X_val, y_val))\n",
        "\n",
        "    y_train_predict = model.predict(X_train)\n",
        "    y_val_predict = model.predict(X_val)\n",
        "\n",
        "    rmse_train = np.sqrt(mean_squared_error(y_train, y_train_predict))\n",
        "    rmse_val = np.sqrt(mean_squared_error(y_val, y_val_predict))\n",
        "\n",
        "    r2_train = r2_score(y_train, y_train_predict)\n",
        "    r2_val = r2_score(y_val, y_val_predict)\n",
        "\n",
        "    print(f\"MSE Train: {rmse_train}, MSE Test: {rmse_val}\")\n",
        "    print(f\"R2 Train: {r2_train}, R2 Test: {r2_val}\")\n",
        "\n",
        "    return model\n",
        "\n",
        "model = catboost_train(X_train_encoded , X_val_encoded, y_train, y_val,\n",
        "                                           target_col='annual_return')"
      ]
    },
    {
      "cell_type": "code",
      "source": [
        "pip install -q prophet"
      ],
      "metadata": {
        "id": "ysnFI-XLSC2I"
      },
      "id": "ysnFI-XLSC2I",
      "execution_count": 24,
      "outputs": []
    },
    {
      "cell_type": "code",
      "source": [],
      "metadata": {
        "id": "ksQw-Rv_TgKf"
      },
      "id": "ksQw-Rv_TgKf",
      "execution_count": null,
      "outputs": []
    },
    {
      "cell_type": "code",
      "source": [
        "a"
      ],
      "metadata": {
        "id": "cTx45_3bThBV"
      },
      "id": "cTx45_3bThBV",
      "execution_count": null,
      "outputs": []
    },
    {
      "cell_type": "code",
      "execution_count": 32,
      "id": "eadadd14",
      "metadata": {
        "id": "eadadd14"
      },
      "outputs": [],
      "source": [
        "import prophet\n",
        "def prepare_prophet_data_with_features(df, important_features):\n",
        "    \"\"\"Подготавливает данные для Prophet с отобранными фичами\"\"\"\n",
        "    # Базовые колонки\n",
        "    prophet_data = df[['Date', 'symbol', 'annual_return']].copy()\n",
        "    prophet_data = prophet_data.rename(columns={\n",
        "        'Date': 'ds',\n",
        "        'annual_return': 'y'\n",
        "    })\n",
        "\n",
        "    # Добавляем отобранные фичи\n",
        "    for feature in important_features:\n",
        "        prophet_data[feature] = df[feature]\n",
        "\n",
        "    return prophet_data.dropna()\n",
        "\n",
        "def train_prophet_with_features(data, important_features):\n",
        "    \"\"\"Обучает Prophet с отобранными фичами\"\"\"\n",
        "    models = {}\n",
        "\n",
        "    for symbol in data['symbol'].unique():\n",
        "        symbol_data = data[data['symbol'] == symbol].copy()\n",
        "\n",
        "        model = Prophet(\n",
        "            yearly_seasonality=True,\n",
        "            changepoint_prior_scale=0.05,\n",
        "            seasonality_mode='additive'\n",
        "        )\n",
        "\n",
        "        # Добавляем регрессоры\n",
        "        for feature in important_features:\n",
        "            model.add_regressor(feature)\n",
        "\n",
        "        model.fit(symbol_data)\n",
        "        models[symbol] = model\n",
        "\n",
        "    return models"
      ]
    },
    {
      "cell_type": "code",
      "execution_count": 34,
      "id": "f4edff3e",
      "metadata": {
        "colab": {
          "base_uri": "https://localhost:8080/"
        },
        "id": "f4edff3e",
        "outputId": "87ff7999-4341-47a7-d30a-92fc9009c2e3"
      },
      "outputs": [
        {
          "output_type": "stream",
          "name": "stderr",
          "text": [
            "INFO:prophet:Disabling daily seasonality. Run prophet with daily_seasonality=True to override this.\n",
            "DEBUG:cmdstanpy:input tempfile: /tmp/tmpifl71tbb/d4rww23p.json\n",
            "DEBUG:cmdstanpy:input tempfile: /tmp/tmpifl71tbb/few5f5z6.json\n",
            "DEBUG:cmdstanpy:idx 0\n",
            "DEBUG:cmdstanpy:running CmdStan, num_threads: None\n",
            "DEBUG:cmdstanpy:CmdStan args: ['/usr/local/lib/python3.11/dist-packages/prophet/stan_model/prophet_model.bin', 'random', 'seed=14729', 'data', 'file=/tmp/tmpifl71tbb/d4rww23p.json', 'init=/tmp/tmpifl71tbb/few5f5z6.json', 'output', 'file=/tmp/tmpifl71tbb/prophet_modelyrht7guy/prophet_model-20250415145515.csv', 'method=optimize', 'algorithm=lbfgs', 'iter=10000']\n",
            "14:55:15 - cmdstanpy - INFO - Chain [1] start processing\n",
            "INFO:cmdstanpy:Chain [1] start processing\n",
            "14:55:16 - cmdstanpy - INFO - Chain [1] done processing\n",
            "INFO:cmdstanpy:Chain [1] done processing\n",
            "INFO:prophet:Disabling daily seasonality. Run prophet with daily_seasonality=True to override this.\n",
            "DEBUG:cmdstanpy:input tempfile: /tmp/tmpifl71tbb/1iamulz7.json\n",
            "DEBUG:cmdstanpy:input tempfile: /tmp/tmpifl71tbb/ybugilmc.json\n",
            "DEBUG:cmdstanpy:idx 0\n",
            "DEBUG:cmdstanpy:running CmdStan, num_threads: None\n",
            "DEBUG:cmdstanpy:CmdStan args: ['/usr/local/lib/python3.11/dist-packages/prophet/stan_model/prophet_model.bin', 'random', 'seed=27844', 'data', 'file=/tmp/tmpifl71tbb/1iamulz7.json', 'init=/tmp/tmpifl71tbb/ybugilmc.json', 'output', 'file=/tmp/tmpifl71tbb/prophet_modelglk1p_yl/prophet_model-20250415145516.csv', 'method=optimize', 'algorithm=lbfgs', 'iter=10000']\n",
            "14:55:16 - cmdstanpy - INFO - Chain [1] start processing\n",
            "INFO:cmdstanpy:Chain [1] start processing\n",
            "14:55:17 - cmdstanpy - INFO - Chain [1] done processing\n",
            "INFO:cmdstanpy:Chain [1] done processing\n",
            "INFO:prophet:Disabling daily seasonality. Run prophet with daily_seasonality=True to override this.\n",
            "DEBUG:cmdstanpy:input tempfile: /tmp/tmpifl71tbb/i0dscaom.json\n",
            "DEBUG:cmdstanpy:input tempfile: /tmp/tmpifl71tbb/efnb9jgl.json\n",
            "DEBUG:cmdstanpy:idx 0\n",
            "DEBUG:cmdstanpy:running CmdStan, num_threads: None\n",
            "DEBUG:cmdstanpy:CmdStan args: ['/usr/local/lib/python3.11/dist-packages/prophet/stan_model/prophet_model.bin', 'random', 'seed=4756', 'data', 'file=/tmp/tmpifl71tbb/i0dscaom.json', 'init=/tmp/tmpifl71tbb/efnb9jgl.json', 'output', 'file=/tmp/tmpifl71tbb/prophet_modelhd8wqicf/prophet_model-20250415145518.csv', 'method=optimize', 'algorithm=lbfgs', 'iter=10000']\n",
            "14:55:18 - cmdstanpy - INFO - Chain [1] start processing\n",
            "INFO:cmdstanpy:Chain [1] start processing\n",
            "14:55:18 - cmdstanpy - INFO - Chain [1] done processing\n",
            "INFO:cmdstanpy:Chain [1] done processing\n",
            "INFO:prophet:Disabling daily seasonality. Run prophet with daily_seasonality=True to override this.\n",
            "DEBUG:cmdstanpy:input tempfile: /tmp/tmpifl71tbb/swjzzxhd.json\n",
            "DEBUG:cmdstanpy:input tempfile: /tmp/tmpifl71tbb/hef6opie.json\n",
            "DEBUG:cmdstanpy:idx 0\n",
            "DEBUG:cmdstanpy:running CmdStan, num_threads: None\n",
            "DEBUG:cmdstanpy:CmdStan args: ['/usr/local/lib/python3.11/dist-packages/prophet/stan_model/prophet_model.bin', 'random', 'seed=99142', 'data', 'file=/tmp/tmpifl71tbb/swjzzxhd.json', 'init=/tmp/tmpifl71tbb/hef6opie.json', 'output', 'file=/tmp/tmpifl71tbb/prophet_modelkqh535t0/prophet_model-20250415145519.csv', 'method=optimize', 'algorithm=lbfgs', 'iter=10000']\n",
            "14:55:19 - cmdstanpy - INFO - Chain [1] start processing\n",
            "INFO:cmdstanpy:Chain [1] start processing\n",
            "14:55:19 - cmdstanpy - INFO - Chain [1] done processing\n",
            "INFO:cmdstanpy:Chain [1] done processing\n",
            "INFO:prophet:Disabling daily seasonality. Run prophet with daily_seasonality=True to override this.\n",
            "DEBUG:cmdstanpy:input tempfile: /tmp/tmpifl71tbb/dq4eycv3.json\n",
            "DEBUG:cmdstanpy:input tempfile: /tmp/tmpifl71tbb/9q8vsq01.json\n",
            "DEBUG:cmdstanpy:idx 0\n",
            "DEBUG:cmdstanpy:running CmdStan, num_threads: None\n",
            "DEBUG:cmdstanpy:CmdStan args: ['/usr/local/lib/python3.11/dist-packages/prophet/stan_model/prophet_model.bin', 'random', 'seed=19707', 'data', 'file=/tmp/tmpifl71tbb/dq4eycv3.json', 'init=/tmp/tmpifl71tbb/9q8vsq01.json', 'output', 'file=/tmp/tmpifl71tbb/prophet_modelg_okofmv/prophet_model-20250415145519.csv', 'method=optimize', 'algorithm=lbfgs', 'iter=10000']\n",
            "14:55:19 - cmdstanpy - INFO - Chain [1] start processing\n",
            "INFO:cmdstanpy:Chain [1] start processing\n",
            "14:55:20 - cmdstanpy - INFO - Chain [1] done processing\n",
            "INFO:cmdstanpy:Chain [1] done processing\n",
            "INFO:prophet:Disabling daily seasonality. Run prophet with daily_seasonality=True to override this.\n",
            "DEBUG:cmdstanpy:input tempfile: /tmp/tmpifl71tbb/2u_9m8nu.json\n",
            "DEBUG:cmdstanpy:input tempfile: /tmp/tmpifl71tbb/7l_gday2.json\n",
            "DEBUG:cmdstanpy:idx 0\n",
            "DEBUG:cmdstanpy:running CmdStan, num_threads: None\n",
            "DEBUG:cmdstanpy:CmdStan args: ['/usr/local/lib/python3.11/dist-packages/prophet/stan_model/prophet_model.bin', 'random', 'seed=27235', 'data', 'file=/tmp/tmpifl71tbb/2u_9m8nu.json', 'init=/tmp/tmpifl71tbb/7l_gday2.json', 'output', 'file=/tmp/tmpifl71tbb/prophet_models0ohno8x/prophet_model-20250415145520.csv', 'method=optimize', 'algorithm=lbfgs', 'iter=10000']\n",
            "14:55:20 - cmdstanpy - INFO - Chain [1] start processing\n",
            "INFO:cmdstanpy:Chain [1] start processing\n",
            "14:55:22 - cmdstanpy - INFO - Chain [1] done processing\n",
            "INFO:cmdstanpy:Chain [1] done processing\n",
            "INFO:prophet:Disabling daily seasonality. Run prophet with daily_seasonality=True to override this.\n",
            "DEBUG:cmdstanpy:input tempfile: /tmp/tmpifl71tbb/ysinfja3.json\n",
            "DEBUG:cmdstanpy:input tempfile: /tmp/tmpifl71tbb/nn5ovq4h.json\n",
            "DEBUG:cmdstanpy:idx 0\n",
            "DEBUG:cmdstanpy:running CmdStan, num_threads: None\n",
            "DEBUG:cmdstanpy:CmdStan args: ['/usr/local/lib/python3.11/dist-packages/prophet/stan_model/prophet_model.bin', 'random', 'seed=19389', 'data', 'file=/tmp/tmpifl71tbb/ysinfja3.json', 'init=/tmp/tmpifl71tbb/nn5ovq4h.json', 'output', 'file=/tmp/tmpifl71tbb/prophet_modelnxoun9ew/prophet_model-20250415145522.csv', 'method=optimize', 'algorithm=lbfgs', 'iter=10000']\n",
            "14:55:22 - cmdstanpy - INFO - Chain [1] start processing\n",
            "INFO:cmdstanpy:Chain [1] start processing\n",
            "14:55:23 - cmdstanpy - INFO - Chain [1] done processing\n",
            "INFO:cmdstanpy:Chain [1] done processing\n",
            "INFO:prophet:Disabling daily seasonality. Run prophet with daily_seasonality=True to override this.\n",
            "DEBUG:cmdstanpy:input tempfile: /tmp/tmpifl71tbb/d5v9zvdo.json\n",
            "DEBUG:cmdstanpy:input tempfile: /tmp/tmpifl71tbb/gie_vuwh.json\n",
            "DEBUG:cmdstanpy:idx 0\n",
            "DEBUG:cmdstanpy:running CmdStan, num_threads: None\n",
            "DEBUG:cmdstanpy:CmdStan args: ['/usr/local/lib/python3.11/dist-packages/prophet/stan_model/prophet_model.bin', 'random', 'seed=12375', 'data', 'file=/tmp/tmpifl71tbb/d5v9zvdo.json', 'init=/tmp/tmpifl71tbb/gie_vuwh.json', 'output', 'file=/tmp/tmpifl71tbb/prophet_model6gal4mds/prophet_model-20250415145523.csv', 'method=optimize', 'algorithm=lbfgs', 'iter=10000']\n",
            "14:55:23 - cmdstanpy - INFO - Chain [1] start processing\n",
            "INFO:cmdstanpy:Chain [1] start processing\n",
            "14:55:24 - cmdstanpy - INFO - Chain [1] done processing\n",
            "INFO:cmdstanpy:Chain [1] done processing\n",
            "INFO:prophet:Disabling daily seasonality. Run prophet with daily_seasonality=True to override this.\n",
            "DEBUG:cmdstanpy:input tempfile: /tmp/tmpifl71tbb/t8x3ueti.json\n",
            "DEBUG:cmdstanpy:input tempfile: /tmp/tmpifl71tbb/bzyp8vfj.json\n",
            "DEBUG:cmdstanpy:idx 0\n",
            "DEBUG:cmdstanpy:running CmdStan, num_threads: None\n",
            "DEBUG:cmdstanpy:CmdStan args: ['/usr/local/lib/python3.11/dist-packages/prophet/stan_model/prophet_model.bin', 'random', 'seed=15670', 'data', 'file=/tmp/tmpifl71tbb/t8x3ueti.json', 'init=/tmp/tmpifl71tbb/bzyp8vfj.json', 'output', 'file=/tmp/tmpifl71tbb/prophet_modelmoj2pt2r/prophet_model-20250415145524.csv', 'method=optimize', 'algorithm=lbfgs', 'iter=10000']\n",
            "14:55:24 - cmdstanpy - INFO - Chain [1] start processing\n",
            "INFO:cmdstanpy:Chain [1] start processing\n",
            "14:55:25 - cmdstanpy - INFO - Chain [1] done processing\n",
            "INFO:cmdstanpy:Chain [1] done processing\n",
            "INFO:prophet:Disabling daily seasonality. Run prophet with daily_seasonality=True to override this.\n",
            "DEBUG:cmdstanpy:input tempfile: /tmp/tmpifl71tbb/fuyzj1tx.json\n",
            "DEBUG:cmdstanpy:input tempfile: /tmp/tmpifl71tbb/cqzu08yj.json\n",
            "DEBUG:cmdstanpy:idx 0\n",
            "DEBUG:cmdstanpy:running CmdStan, num_threads: None\n",
            "DEBUG:cmdstanpy:CmdStan args: ['/usr/local/lib/python3.11/dist-packages/prophet/stan_model/prophet_model.bin', 'random', 'seed=9446', 'data', 'file=/tmp/tmpifl71tbb/fuyzj1tx.json', 'init=/tmp/tmpifl71tbb/cqzu08yj.json', 'output', 'file=/tmp/tmpifl71tbb/prophet_modeljf2c8hu3/prophet_model-20250415145526.csv', 'method=optimize', 'algorithm=lbfgs', 'iter=10000']\n",
            "14:55:26 - cmdstanpy - INFO - Chain [1] start processing\n",
            "INFO:cmdstanpy:Chain [1] start processing\n",
            "14:55:27 - cmdstanpy - INFO - Chain [1] done processing\n",
            "INFO:cmdstanpy:Chain [1] done processing\n",
            "INFO:prophet:Disabling daily seasonality. Run prophet with daily_seasonality=True to override this.\n",
            "DEBUG:cmdstanpy:input tempfile: /tmp/tmpifl71tbb/8nh84usr.json\n",
            "DEBUG:cmdstanpy:input tempfile: /tmp/tmpifl71tbb/2j_nzbf6.json\n",
            "DEBUG:cmdstanpy:idx 0\n",
            "DEBUG:cmdstanpy:running CmdStan, num_threads: None\n",
            "DEBUG:cmdstanpy:CmdStan args: ['/usr/local/lib/python3.11/dist-packages/prophet/stan_model/prophet_model.bin', 'random', 'seed=20578', 'data', 'file=/tmp/tmpifl71tbb/8nh84usr.json', 'init=/tmp/tmpifl71tbb/2j_nzbf6.json', 'output', 'file=/tmp/tmpifl71tbb/prophet_model_czis93g/prophet_model-20250415145527.csv', 'method=optimize', 'algorithm=lbfgs', 'iter=10000']\n",
            "14:55:27 - cmdstanpy - INFO - Chain [1] start processing\n",
            "INFO:cmdstanpy:Chain [1] start processing\n",
            "14:55:28 - cmdstanpy - INFO - Chain [1] done processing\n",
            "INFO:cmdstanpy:Chain [1] done processing\n",
            "INFO:prophet:Disabling daily seasonality. Run prophet with daily_seasonality=True to override this.\n",
            "DEBUG:cmdstanpy:input tempfile: /tmp/tmpifl71tbb/yzuq7k7b.json\n",
            "DEBUG:cmdstanpy:input tempfile: /tmp/tmpifl71tbb/gy66e2sj.json\n",
            "DEBUG:cmdstanpy:idx 0\n",
            "DEBUG:cmdstanpy:running CmdStan, num_threads: None\n",
            "DEBUG:cmdstanpy:CmdStan args: ['/usr/local/lib/python3.11/dist-packages/prophet/stan_model/prophet_model.bin', 'random', 'seed=28250', 'data', 'file=/tmp/tmpifl71tbb/yzuq7k7b.json', 'init=/tmp/tmpifl71tbb/gy66e2sj.json', 'output', 'file=/tmp/tmpifl71tbb/prophet_modelqr37id8y/prophet_model-20250415145528.csv', 'method=optimize', 'algorithm=lbfgs', 'iter=10000']\n",
            "14:55:28 - cmdstanpy - INFO - Chain [1] start processing\n",
            "INFO:cmdstanpy:Chain [1] start processing\n",
            "14:55:29 - cmdstanpy - INFO - Chain [1] done processing\n",
            "INFO:cmdstanpy:Chain [1] done processing\n",
            "INFO:prophet:Disabling daily seasonality. Run prophet with daily_seasonality=True to override this.\n",
            "DEBUG:cmdstanpy:input tempfile: /tmp/tmpifl71tbb/ifaob0tf.json\n",
            "DEBUG:cmdstanpy:input tempfile: /tmp/tmpifl71tbb/yc905md6.json\n",
            "DEBUG:cmdstanpy:idx 0\n",
            "DEBUG:cmdstanpy:running CmdStan, num_threads: None\n",
            "DEBUG:cmdstanpy:CmdStan args: ['/usr/local/lib/python3.11/dist-packages/prophet/stan_model/prophet_model.bin', 'random', 'seed=83279', 'data', 'file=/tmp/tmpifl71tbb/ifaob0tf.json', 'init=/tmp/tmpifl71tbb/yc905md6.json', 'output', 'file=/tmp/tmpifl71tbb/prophet_modelzs4h809q/prophet_model-20250415145530.csv', 'method=optimize', 'algorithm=lbfgs', 'iter=10000']\n",
            "14:55:30 - cmdstanpy - INFO - Chain [1] start processing\n",
            "INFO:cmdstanpy:Chain [1] start processing\n",
            "14:55:31 - cmdstanpy - INFO - Chain [1] done processing\n",
            "INFO:cmdstanpy:Chain [1] done processing\n",
            "INFO:prophet:Disabling daily seasonality. Run prophet with daily_seasonality=True to override this.\n",
            "DEBUG:cmdstanpy:input tempfile: /tmp/tmpifl71tbb/fc6uuamw.json\n",
            "DEBUG:cmdstanpy:input tempfile: /tmp/tmpifl71tbb/qt5l_64n.json\n",
            "DEBUG:cmdstanpy:idx 0\n",
            "DEBUG:cmdstanpy:running CmdStan, num_threads: None\n",
            "DEBUG:cmdstanpy:CmdStan args: ['/usr/local/lib/python3.11/dist-packages/prophet/stan_model/prophet_model.bin', 'random', 'seed=38774', 'data', 'file=/tmp/tmpifl71tbb/fc6uuamw.json', 'init=/tmp/tmpifl71tbb/qt5l_64n.json', 'output', 'file=/tmp/tmpifl71tbb/prophet_model9yqo96ez/prophet_model-20250415145531.csv', 'method=optimize', 'algorithm=lbfgs', 'iter=10000']\n",
            "14:55:31 - cmdstanpy - INFO - Chain [1] start processing\n",
            "INFO:cmdstanpy:Chain [1] start processing\n",
            "14:55:32 - cmdstanpy - INFO - Chain [1] done processing\n",
            "INFO:cmdstanpy:Chain [1] done processing\n",
            "INFO:prophet:Disabling daily seasonality. Run prophet with daily_seasonality=True to override this.\n",
            "DEBUG:cmdstanpy:input tempfile: /tmp/tmpifl71tbb/400qlvpv.json\n",
            "DEBUG:cmdstanpy:input tempfile: /tmp/tmpifl71tbb/f4b8zu47.json\n",
            "DEBUG:cmdstanpy:idx 0\n",
            "DEBUG:cmdstanpy:running CmdStan, num_threads: None\n",
            "DEBUG:cmdstanpy:CmdStan args: ['/usr/local/lib/python3.11/dist-packages/prophet/stan_model/prophet_model.bin', 'random', 'seed=60359', 'data', 'file=/tmp/tmpifl71tbb/400qlvpv.json', 'init=/tmp/tmpifl71tbb/f4b8zu47.json', 'output', 'file=/tmp/tmpifl71tbb/prophet_model6h7gvxiq/prophet_model-20250415145532.csv', 'method=optimize', 'algorithm=lbfgs', 'iter=10000']\n",
            "14:55:32 - cmdstanpy - INFO - Chain [1] start processing\n",
            "INFO:cmdstanpy:Chain [1] start processing\n",
            "14:55:33 - cmdstanpy - INFO - Chain [1] done processing\n",
            "INFO:cmdstanpy:Chain [1] done processing\n",
            "INFO:prophet:Disabling daily seasonality. Run prophet with daily_seasonality=True to override this.\n",
            "DEBUG:cmdstanpy:input tempfile: /tmp/tmpifl71tbb/nzdf0hwp.json\n",
            "DEBUG:cmdstanpy:input tempfile: /tmp/tmpifl71tbb/znt77_tz.json\n",
            "DEBUG:cmdstanpy:idx 0\n",
            "DEBUG:cmdstanpy:running CmdStan, num_threads: None\n",
            "DEBUG:cmdstanpy:CmdStan args: ['/usr/local/lib/python3.11/dist-packages/prophet/stan_model/prophet_model.bin', 'random', 'seed=65350', 'data', 'file=/tmp/tmpifl71tbb/nzdf0hwp.json', 'init=/tmp/tmpifl71tbb/znt77_tz.json', 'output', 'file=/tmp/tmpifl71tbb/prophet_modell34_qtzx/prophet_model-20250415145534.csv', 'method=optimize', 'algorithm=lbfgs', 'iter=10000']\n",
            "14:55:34 - cmdstanpy - INFO - Chain [1] start processing\n",
            "INFO:cmdstanpy:Chain [1] start processing\n",
            "14:55:35 - cmdstanpy - INFO - Chain [1] done processing\n",
            "INFO:cmdstanpy:Chain [1] done processing\n",
            "INFO:prophet:Disabling daily seasonality. Run prophet with daily_seasonality=True to override this.\n",
            "DEBUG:cmdstanpy:input tempfile: /tmp/tmpifl71tbb/xx3nqe1l.json\n",
            "DEBUG:cmdstanpy:input tempfile: /tmp/tmpifl71tbb/kx9o5ehp.json\n",
            "DEBUG:cmdstanpy:idx 0\n",
            "DEBUG:cmdstanpy:running CmdStan, num_threads: None\n",
            "DEBUG:cmdstanpy:CmdStan args: ['/usr/local/lib/python3.11/dist-packages/prophet/stan_model/prophet_model.bin', 'random', 'seed=17976', 'data', 'file=/tmp/tmpifl71tbb/xx3nqe1l.json', 'init=/tmp/tmpifl71tbb/kx9o5ehp.json', 'output', 'file=/tmp/tmpifl71tbb/prophet_modelrut99evm/prophet_model-20250415145535.csv', 'method=optimize', 'algorithm=lbfgs', 'iter=10000']\n",
            "14:55:35 - cmdstanpy - INFO - Chain [1] start processing\n",
            "INFO:cmdstanpy:Chain [1] start processing\n",
            "14:55:36 - cmdstanpy - INFO - Chain [1] done processing\n",
            "INFO:cmdstanpy:Chain [1] done processing\n",
            "INFO:prophet:Disabling daily seasonality. Run prophet with daily_seasonality=True to override this.\n",
            "DEBUG:cmdstanpy:input tempfile: /tmp/tmpifl71tbb/r_9eniif.json\n",
            "DEBUG:cmdstanpy:input tempfile: /tmp/tmpifl71tbb/h1f8nyqq.json\n",
            "DEBUG:cmdstanpy:idx 0\n",
            "DEBUG:cmdstanpy:running CmdStan, num_threads: None\n",
            "DEBUG:cmdstanpy:CmdStan args: ['/usr/local/lib/python3.11/dist-packages/prophet/stan_model/prophet_model.bin', 'random', 'seed=33774', 'data', 'file=/tmp/tmpifl71tbb/r_9eniif.json', 'init=/tmp/tmpifl71tbb/h1f8nyqq.json', 'output', 'file=/tmp/tmpifl71tbb/prophet_modelyyz3zljp/prophet_model-20250415145536.csv', 'method=optimize', 'algorithm=lbfgs', 'iter=10000']\n",
            "14:55:36 - cmdstanpy - INFO - Chain [1] start processing\n",
            "INFO:cmdstanpy:Chain [1] start processing\n",
            "14:55:37 - cmdstanpy - INFO - Chain [1] done processing\n",
            "INFO:cmdstanpy:Chain [1] done processing\n",
            "INFO:prophet:Disabling daily seasonality. Run prophet with daily_seasonality=True to override this.\n",
            "DEBUG:cmdstanpy:input tempfile: /tmp/tmpifl71tbb/0g1q3c1x.json\n",
            "DEBUG:cmdstanpy:input tempfile: /tmp/tmpifl71tbb/tna45p33.json\n",
            "DEBUG:cmdstanpy:idx 0\n",
            "DEBUG:cmdstanpy:running CmdStan, num_threads: None\n",
            "DEBUG:cmdstanpy:CmdStan args: ['/usr/local/lib/python3.11/dist-packages/prophet/stan_model/prophet_model.bin', 'random', 'seed=53092', 'data', 'file=/tmp/tmpifl71tbb/0g1q3c1x.json', 'init=/tmp/tmpifl71tbb/tna45p33.json', 'output', 'file=/tmp/tmpifl71tbb/prophet_model38ax_5bm/prophet_model-20250415145537.csv', 'method=optimize', 'algorithm=lbfgs', 'iter=10000']\n",
            "14:55:37 - cmdstanpy - INFO - Chain [1] start processing\n",
            "INFO:cmdstanpy:Chain [1] start processing\n",
            "14:55:40 - cmdstanpy - INFO - Chain [1] done processing\n",
            "INFO:cmdstanpy:Chain [1] done processing\n",
            "INFO:prophet:Disabling daily seasonality. Run prophet with daily_seasonality=True to override this.\n",
            "DEBUG:cmdstanpy:input tempfile: /tmp/tmpifl71tbb/z7sbb9w8.json\n",
            "DEBUG:cmdstanpy:input tempfile: /tmp/tmpifl71tbb/gxls3h3m.json\n",
            "DEBUG:cmdstanpy:idx 0\n",
            "DEBUG:cmdstanpy:running CmdStan, num_threads: None\n",
            "DEBUG:cmdstanpy:CmdStan args: ['/usr/local/lib/python3.11/dist-packages/prophet/stan_model/prophet_model.bin', 'random', 'seed=63324', 'data', 'file=/tmp/tmpifl71tbb/z7sbb9w8.json', 'init=/tmp/tmpifl71tbb/gxls3h3m.json', 'output', 'file=/tmp/tmpifl71tbb/prophet_model2115rcds/prophet_model-20250415145540.csv', 'method=optimize', 'algorithm=lbfgs', 'iter=10000']\n",
            "14:55:40 - cmdstanpy - INFO - Chain [1] start processing\n",
            "INFO:cmdstanpy:Chain [1] start processing\n",
            "14:55:42 - cmdstanpy - INFO - Chain [1] done processing\n",
            "INFO:cmdstanpy:Chain [1] done processing\n"
          ]
        },
        {
          "output_type": "stream",
          "name": "stdout",
          "text": [
            "CPU times: user 6 s, sys: 269 ms, total: 6.26 s\n",
            "Wall time: 29.1 s\n"
          ]
        }
      ],
      "source": [
        "%%time\n",
        "from prophet import Prophet\n",
        "prophet_data = prepare_prophet_data_with_features(df_train, top_15_features)\n",
        "prophet_model = train_prophet_with_features(prophet_data, top_15_features)"
      ]
    },
    {
      "cell_type": "code",
      "source": [
        "prophet_model"
      ],
      "metadata": {
        "colab": {
          "base_uri": "https://localhost:8080/"
        },
        "id": "9jmJUPDVTmFa",
        "outputId": "42ca675f-1a69-4b48-8995-383b3b1cf6d6"
      },
      "id": "9jmJUPDVTmFa",
      "execution_count": 35,
      "outputs": [
        {
          "output_type": "execute_result",
          "data": {
            "text/plain": [
              "{'AAPL': <prophet.forecaster.Prophet at 0x7a8df9002410>,\n",
              " 'AMZN': <prophet.forecaster.Prophet at 0x7a8df9578e10>,\n",
              " 'AVGO': <prophet.forecaster.Prophet at 0x7a8e21cb2010>,\n",
              " 'BRK-B': <prophet.forecaster.Prophet at 0x7a8df9582490>,\n",
              " 'COST': <prophet.forecaster.Prophet at 0x7a8e1f70a410>,\n",
              " 'GOOG': <prophet.forecaster.Prophet at 0x7a8df90ce5d0>,\n",
              " 'GOOGL': <prophet.forecaster.Prophet at 0x7a8e1f741150>,\n",
              " 'JPM': <prophet.forecaster.Prophet at 0x7a8e1f681390>,\n",
              " 'LLY': <prophet.forecaster.Prophet at 0x7a8df953aa50>,\n",
              " 'MA': <prophet.forecaster.Prophet at 0x7a8df89b9510>,\n",
              " 'META': <prophet.forecaster.Prophet at 0x7a8e21a1dd50>,\n",
              " 'MSFT': <prophet.forecaster.Prophet at 0x7a8dfa5377d0>,\n",
              " 'NFLX': <prophet.forecaster.Prophet at 0x7a8e21d25210>,\n",
              " 'NVDA': <prophet.forecaster.Prophet at 0x7a8e1f808e50>,\n",
              " 'PG': <prophet.forecaster.Prophet at 0x7a8df88851d0>,\n",
              " 'TSLA': <prophet.forecaster.Prophet at 0x7a8df8533f50>,\n",
              " 'UNH': <prophet.forecaster.Prophet at 0x7a8df8827710>,\n",
              " 'V': <prophet.forecaster.Prophet at 0x7a8df88d1e90>,\n",
              " 'WMT': <prophet.forecaster.Prophet at 0x7a8df87a2950>,\n",
              " 'XOM': <prophet.forecaster.Prophet at 0x7a8e27a10950>}"
            ]
          },
          "metadata": {},
          "execution_count": 35
        }
      ]
    },
    {
      "cell_type": "code",
      "source": [
        "pip install -q pyportfolioopt"
      ],
      "metadata": {
        "colab": {
          "base_uri": "https://localhost:8080/"
        },
        "id": "Z9-YD-_6Uoy1",
        "outputId": "bd9b01a0-02a8-4486-eb80-3eabe40a3437"
      },
      "id": "Z9-YD-_6Uoy1",
      "execution_count": 37,
      "outputs": [
        {
          "output_type": "stream",
          "name": "stdout",
          "text": [
            "\u001b[?25l   \u001b[90m━━━━━━━━━━━━━━━━━━━━━━━━━━━━━━━━━━━━━━━━\u001b[0m \u001b[32m0.0/62.7 kB\u001b[0m \u001b[31m?\u001b[0m eta \u001b[36m-:--:--\u001b[0m\r\u001b[2K   \u001b[90m━━━━━━━━━━━━━━━━━━━━━━━━━━━━━━━━━━━━━━━━\u001b[0m \u001b[32m62.7/62.7 kB\u001b[0m \u001b[31m3.3 MB/s\u001b[0m eta \u001b[36m0:00:00\u001b[0m\n",
            "\u001b[?25h\u001b[?25l   \u001b[90m━━━━━━━━━━━━━━━━━━━━━━━━━━━━━━━━━━━━━━━━\u001b[0m \u001b[32m0.0/220.1 kB\u001b[0m \u001b[31m?\u001b[0m eta \u001b[36m-:--:--\u001b[0m\r\u001b[2K   \u001b[90m━━━━━━━━━━━━━━━━━━━━━━━━━━━━━━━━━━━━━━━━\u001b[0m \u001b[32m220.1/220.1 kB\u001b[0m \u001b[31m16.0 MB/s\u001b[0m eta \u001b[36m0:00:00\u001b[0m\n",
            "\u001b[?25h"
          ]
        }
      ]
    }
  ],
  "metadata": {
    "kernelspec": {
      "display_name": "Python 3",
      "language": "python",
      "name": "python3"
    },
    "language_info": {
      "codemirror_mode": {
        "name": "ipython",
        "version": 3
      },
      "file_extension": ".py",
      "mimetype": "text/x-python",
      "name": "python",
      "nbconvert_exporter": "python",
      "pygments_lexer": "ipython3",
      "version": "3.9.21"
    },
    "colab": {
      "provenance": []
    }
  },
  "nbformat": 4,
  "nbformat_minor": 5
}