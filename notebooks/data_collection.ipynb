{
 "cells": [
  {
   "cell_type": "code",
   "execution_count": 2,
   "metadata": {},
   "outputs": [],
   "source": [
    "# Взяты у Yahoo через функцию get_top_sp500_tickers, функция работает долго, так что я создал список\n",
    "top_20_symbols = ['AAPL','MSFT','NVDA','AMZN','GOOGL','GOOG','META','BRK-B','AVGO',\n",
    "                  'TSLA','WMT','LLY','JPM','V','UNH','MA','XOM','COST','NFLX','PG']"
   ]
  },
  {
   "cell_type": "code",
   "execution_count": null,
   "metadata": {},
   "outputs": [],
   "source": [
    "import yfinance as yf\n",
    "import pandas as pd\n",
    "from datetime import datetime, timedelta\n",
    "import time\n",
    "#from prophet import Prophet\n",
    "\n",
    "def get_top_sp500_tickers(top_n=20):\n",
    "    \"\"\"Альтернативная версия с получением текущей капитализации через yfinance\"\"\"\n",
    "    try:\n",
    "        # Получаем базовый список с Wikipedia\n",
    "        url = 'https://en.wikipedia.org/wiki/List_of_S%26P_500_companies'\n",
    "        tables = pd.read_html(url)\n",
    "        sp500_table = tables[0]\n",
    "        tickers = sp500_table['Symbol'].tolist()\n",
    "        tickers = [ticker.replace('.', '-') for ticker in tickers]\n",
    "        \n",
    "        # Получаем текущую капитализацию для каждого тикера\n",
    "        market_caps = {}\n",
    "        for ticker in tickers:\n",
    "            try:\n",
    "                stock = yf.Ticker(ticker)\n",
    "                market_cap = stock.info.get('marketCap', 0)\n",
    "                market_caps[ticker] = market_cap\n",
    "                time.sleep(0.1)  # Чтобы не получить бан от Yahoo\n",
    "            except:\n",
    "                continue\n",
    "        \n",
    "        # Сортируем по капитализации и берем топ N\n",
    "        sorted_tickers = sorted(market_caps.keys(), key=lambda x: market_caps[x], reverse=True)\n",
    "        return sorted_tickers[:top_n]\n",
    "        \n",
    "    except Exception as e:\n",
    "        print(f\"Ошибка: {e}\")\n",
    "        return None\n",
    "\n",
    "def download_and_transform_data(tickers, period=\"10y\"):\n",
    "    \"\"\"Загружает данные и преобразует в нужный формат\"\"\"\n",
    "    try:\n",
    "        data = yf.download(\n",
    "            tickers=tickers,\n",
    "            period=period,\n",
    "            interval=\"1d\",\n",
    "            group_by='ticker',\n",
    "            progress=True,\n",
    "            threads=True\n",
    "        )\n",
    "        \n",
    "        # Собираем данные в список DataFrame'ов\n",
    "        frames = []\n",
    "        for ticker in tickers:\n",
    "            if ticker in data:\n",
    "                # Создаем копию данных для текущего тикера\n",
    "                df = data[ticker].copy()\n",
    "                # Сбрасываем индекс, чтобы 'Date' стал обычным столбцом\n",
    "                df = df.reset_index()\n",
    "                # Добавляем столбец с тикером\n",
    "                df['symbol'] = ticker\n",
    "                frames.append(df)\n",
    "        \n",
    "        if not frames:\n",
    "            return pd.DataFrame()\n",
    "            \n",
    "        # Объединяем все DataFrame'ы\n",
    "        combined = pd.concat(frames, ignore_index=True)\n",
    "        \n",
    "        # Сортируем по тикеру и дате\n",
    "        combined = combined.sort_values(['symbol', 'Date'])\n",
    "        \n",
    "        # Создаем целевую переменную (годовая доходность)\n",
    "        combined['future_price'] = combined.groupby('symbol')['Close'].shift(-252)\n",
    "        combined['annual_return'] = (combined['future_price'] / combined['Close']) - 1\n",
    "        \n",
    "        return combined\n",
    "    \n",
    "    except Exception as e:\n",
    "        print(f\"Ошибка при загрузке данных: {e}\")\n",
    "        return pd.DataFrame()\n",
    "    \n",
    "    except Exception as e:\n",
    "        print(f\"Ошибка при загрузке и преобразовании данных: {e}\")\n",
    "        return pd.DataFrame()\n",
    "\n",
    "def save_to_csv(data, filename_prefix=\"sp500_ml_data\"):\n",
    "    \"\"\"Сохраняет данные в CSV файл\"\"\"\n",
    "    if data is None or data.empty:\n",
    "        print(\"Нет данных для сохранения\")\n",
    "        return\n",
    "    \n",
    "    timestamp = datetime.now().strftime(\"%Y%m%d_%H%M%S\")\n",
    "    filename = f\"{filename_prefix}_{timestamp}.csv\"\n",
    "    data.to_csv(filename, index=False)\n",
    "    print(f\"Данные сохранены в файл: {filename}\")\n",
    "\n",
    "def main(top_tickers=top_20_symbols):\n",
    "    print(\"Получаем топ 20 акций S&P 500 по капитализации...\")\n",
    "    if top_tickers == []:\n",
    "        top_tickers = get_top_sp500_tickers(top_n=20)\n",
    "    \n",
    "    if not top_tickers:\n",
    "        print(\"Не удалось получить список акций. Завершение работы.\")\n",
    "        return\n",
    "    \n",
    "    print(f\"Топ 20 акций по капитализации: {', '.join(top_tickers)}\")\n",
    "    \n",
    "    print(\"Загружаем и преобразуем исторические данные...\")\n",
    "    stock_data = download_and_transform_data(top_tickers, period=\"10y\")\n",
    "    \n",
    "    if not stock_data.empty:\n",
    "        print(\"\\nУспешно загружены и преобразованы данные:\")\n",
    "        print(stock_data.head())\n",
    "        \n",
    "        save_to_csv(stock_data, \"sp500_ml_ready\")\n",
    "    else:\n",
    "        print(\"Не удалось загрузить данные или данные пусты.\")"
   ]
  },
  {
   "cell_type": "code",
   "execution_count": 28,
   "metadata": {},
   "outputs": [
    {
     "name": "stdout",
     "output_type": "stream",
     "text": [
      "Получаем топ 20 акций S&P 500 по капитализации...\n",
      "Топ 20 акций по капитализации: AAPL, MSFT, NVDA, AMZN, GOOGL, GOOG, META, BRK-B, AVGO, TSLA, WMT, LLY, JPM, V, UNH, MA, XOM, COST, NFLX, PG\n",
      "Загружаем и преобразуем исторические данные...\n"
     ]
    },
    {
     "name": "stderr",
     "output_type": "stream",
     "text": [
      "[*********************100%***********************]  20 of 20 completed\n"
     ]
    },
    {
     "name": "stdout",
     "output_type": "stream",
     "text": [
      "\n",
      "Успешно загружены и преобразованы данные:\n",
      "Price       Date       Open       High        Low      Close     Volume  \\\n",
      "0     2015-04-13  28.668572  28.713240  28.275517  28.329115  145460400   \n",
      "1     2015-04-14  28.362616  28.427381  28.119190  28.206287  102098400   \n",
      "2     2015-04-15  28.230856  28.391650  28.141525  28.313486  115881600   \n",
      "3     2015-04-16  28.201820  28.384949  28.163855  28.177254  113476000   \n",
      "4     2015-04-17  28.038793  28.170556  27.795365  27.860130  207828000   \n",
      "\n",
      "Price symbol  future_price  annual_return  \n",
      "0       AAPL     25.121523      -0.113226  \n",
      "1       AAPL     25.485466      -0.096462  \n",
      "2       AAPL     25.499111      -0.099401  \n",
      "3       AAPL     24.987312      -0.113210  \n",
      "4       AAPL     24.448217      -0.122466  \n",
      "Данные сохранены в файл: sp500_ml_ready_20250412_174743.csv\n"
     ]
    }
   ],
   "source": [
    "main()"
   ]
  },
  {
   "cell_type": "markdown",
   "metadata": {},
   "source": [
    "Target - доходность через год от текущей даты"
   ]
  },
  {
   "cell_type": "code",
   "execution_count": 4,
   "metadata": {},
   "outputs": [],
   "source": [
    "import pandas as pd\n",
    "df = pd.read_csv(\"sp500_ml_ready_20250412_174743.csv\")"
   ]
  },
  {
   "cell_type": "code",
   "execution_count": 20,
   "metadata": {},
   "outputs": [
    {
     "name": "stderr",
     "output_type": "stream",
     "text": [
      "C:\\Users\\user\\AppData\\Local\\Temp\\ipykernel_11272\\3566150219.py:21: DeprecationWarning: DataFrameGroupBy.apply operated on the grouping columns. This behavior is deprecated, and in a future version of pandas the grouping columns will be excluded from the operation. Either pass `include_groups=False` to exclude the groupings or explicitly select the grouping columns after groupby to silence this warning.\n",
      "  df_with_ta = df.groupby('symbol').apply(add_ta_indicators)\n"
     ]
    }
   ],
   "source": [
    "import pandas as pd\n",
    "import pandas_ta as ta\n",
    "\n",
    "# Функция для добавления индикаторов к каждой группе (акции)\n",
    "def add_ta_indicators(group):\n",
    "    # Убедимся, что данные отсортированы по дате\n",
    "    group = group.sort_values('Date')\n",
    "    \n",
    "    # Добавляем индикаторы (примеры)\n",
    "    group.ta.sma(length=50, append=True, col_names=('SMA_50',))  # SMA за 50 дней\n",
    "    group.ta.ema(length=200, append=True, col_names=('EMA_200',))  # EMA за 200 дней\n",
    "    group.ta.rsi(length=30, append=True, col_names=('RSI_14',))  # RSI за 14 дней\n",
    "    group.ta.macd(append=True, col_names=('MACD_', 'MACD_hist_', 'MACD_signal_'))  # MACD\n",
    "    group.ta.adx(length=50, append=True)  # ADX за 50 дней\n",
    "    group.ta.bbands(length=20, append=True)  # Bollinger Bands\n",
    "    group.ta.atr(length=14, append=True)  # ATR (волатильность)\n",
    "    \n",
    "    return group\n",
    "\n",
    "# Применяем функцию к каждой группе (акции)\n",
    "df_with_ta = df.groupby('symbol').apply(add_ta_indicators)\n",
    "\n",
    "# Удаляем NaN (если индикаторы их создали)\n",
    "df_with_ta = df_with_ta.reset_index(drop=True)\\\n",
    "            .dropna()\n",
    "df_with_ta\n",
    "\n",
    "df_with_ta.Date = pd.to_datetime(df_with_ta.Date)"
   ]
  },
  {
   "cell_type": "code",
   "execution_count": 21,
   "metadata": {},
   "outputs": [],
   "source": [
    "df_with_ta.to_csv(\"stocks_with_indicators_20.csv\", \n",
    "                  index=0)"
   ]
  },
  {
   "cell_type": "markdown",
   "metadata": {},
   "source": [
    "import swifter\n",
    "\n",
    "df_with_ta = df.groupby('symbol').swifter.apply(add_ta_indicators)"
   ]
  }
 ],
 "metadata": {
  "kernelspec": {
   "display_name": "Python 3",
   "language": "python",
   "name": "python3"
  },
  "language_info": {
   "codemirror_mode": {
    "name": "ipython",
    "version": 3
   },
   "file_extension": ".py",
   "mimetype": "text/x-python",
   "name": "python",
   "nbconvert_exporter": "python",
   "pygments_lexer": "ipython3",
   "version": "3.9.21"
  }
 },
 "nbformat": 4,
 "nbformat_minor": 2
}
